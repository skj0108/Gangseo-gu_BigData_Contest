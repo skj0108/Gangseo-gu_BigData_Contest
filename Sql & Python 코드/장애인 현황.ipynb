{
 "cells": [
  {
   "cell_type": "code",
   "execution_count": 1,
   "id": "95d9f0a4",
   "metadata": {},
   "outputs": [
    {
     "name": "stdout",
     "output_type": "stream",
     "text": [
      "Defaulting to user installation because normal site-packages is not writeable\n",
      "Requirement already satisfied: pymysql in c:\\users\\msi\\appdata\\roaming\\python\\python39\\site-packages (1.0.3)\n"
     ]
    }
   ],
   "source": [
    "!pip install pymysql"
   ]
  },
  {
   "cell_type": "code",
   "execution_count": 2,
   "id": "92260205",
   "metadata": {},
   "outputs": [],
   "source": [
    "import pandas as pd\n",
    "import numpy as np\n",
    "import matplotlib.pyplot as plt\n",
    "plt.rcParams['axes.unicode_minus'] = False \n",
    "%matplotlib inline\n",
    "import pymysql\n"
   ]
  },
  {
   "cell_type": "code",
   "execution_count": 3,
   "id": "8bccadfc",
   "metadata": {},
   "outputs": [],
   "source": [
    "import matplotlib\n",
    "matplotlib.rcParams['font.family'] = 'Malgun Gothic' \n",
    "matplotlib.rcParams['font.size'] = 10\n",
    "matplotlib.rcParams['axes.unicode_minus'] = False "
   ]
  },
  {
   "cell_type": "code",
   "execution_count": 18,
   "id": "c16dcd34",
   "metadata": {},
   "outputs": [],
   "source": [
    "conn = pymysql.connect(host='localhost', user='root', password='2544',\n",
    "                      db='persondb', charset='utf8')\n",
    "cur = conn.cursor()"
   ]
  },
  {
   "cell_type": "markdown",
   "id": "9f054ccf",
   "metadata": {},
   "source": [
    "### 쿼리문 1"
   ]
  },
  {
   "cell_type": "code",
   "execution_count": 29,
   "id": "d82d888a",
   "metadata": {},
   "outputs": [
    {
     "data": {
      "text/plain": [
       "9"
      ]
     },
     "execution_count": 29,
     "metadata": {},
     "output_type": "execute_result"
    }
   ],
   "source": [
    "sql = 'SELECT age_2, SUM(num) FROM age_tbl GROUP BY age_2'\n",
    "cur.execute(sql)"
   ]
  },
  {
   "cell_type": "code",
   "execution_count": 30,
   "id": "b5634d50",
   "metadata": {},
   "outputs": [],
   "source": [
    "row = cur.fetchall()"
   ]
  },
  {
   "cell_type": "code",
   "execution_count": 31,
   "id": "2089f955",
   "metadata": {},
   "outputs": [
    {
     "data": {
      "text/html": [
       "<div>\n",
       "<style scoped>\n",
       "    .dataframe tbody tr th:only-of-type {\n",
       "        vertical-align: middle;\n",
       "    }\n",
       "\n",
       "    .dataframe tbody tr th {\n",
       "        vertical-align: top;\n",
       "    }\n",
       "\n",
       "    .dataframe thead th {\n",
       "        text-align: right;\n",
       "    }\n",
       "</style>\n",
       "<table border=\"1\" class=\"dataframe\">\n",
       "  <thead>\n",
       "    <tr style=\"text-align: right;\">\n",
       "      <th></th>\n",
       "      <th>장애인구수</th>\n",
       "    </tr>\n",
       "    <tr>\n",
       "      <th>age</th>\n",
       "      <th></th>\n",
       "    </tr>\n",
       "  </thead>\n",
       "  <tbody>\n",
       "    <tr>\n",
       "      <th>9세미만</th>\n",
       "      <td>309</td>\n",
       "    </tr>\n",
       "    <tr>\n",
       "      <th>10~19세</th>\n",
       "      <td>498</td>\n",
       "    </tr>\n",
       "    <tr>\n",
       "      <th>20~29세</th>\n",
       "      <td>993</td>\n",
       "    </tr>\n",
       "    <tr>\n",
       "      <th>30~39세</th>\n",
       "      <td>1426</td>\n",
       "    </tr>\n",
       "    <tr>\n",
       "      <th>40~49세</th>\n",
       "      <td>2386</td>\n",
       "    </tr>\n",
       "  </tbody>\n",
       "</table>\n",
       "</div>"
      ],
      "text/plain": [
       "       장애인구수\n",
       "age         \n",
       "9세미만     309\n",
       "10~19세   498\n",
       "20~29세   993\n",
       "30~39세  1426\n",
       "40~49세  2386"
      ]
     },
     "execution_count": 31,
     "metadata": {},
     "output_type": "execute_result"
    }
   ],
   "source": [
    "Dataname = ['age', '장애인구수']\n",
    "result_1 = pd.DataFrame(row, columns=Dataname)\n",
    "result_1 = result_1.set_index('age')\n",
    "result_1.head()"
   ]
  },
  {
   "cell_type": "code",
   "execution_count": 37,
   "id": "f23c808b",
   "metadata": {},
   "outputs": [
    {
     "data": {
      "image/png": "[encoded data removed]",
      "text/plain": [
       "<Figure size 720x360 with 1 Axes>"
      ]
     },
     "metadata": {
      "needs_background": "light"
     },
     "output_type": "display_data"
    }
   ],
   "source": [
    "plt.figure(figsize=(10,5))\n",
    "plt.bar(result_1.index, result_1['장애인구수'], color='blue')\n",
    "plt.title('강서구 연령별 장애인구수')\n",
    "plt.xticks(rotation=45)\n",
    "plt.show()"
   ]
  },
  {
   "cell_type": "markdown",
   "id": "548f3bd8",
   "metadata": {},
   "source": [
    "### 쿼리문 2"
   ]
  },
  {
   "cell_type": "code",
   "execution_count": 38,
   "id": "c6a4657a",
   "metadata": {},
   "outputs": [
    {
     "data": {
      "text/plain": [
       "3"
      ]
     },
     "execution_count": 38,
     "metadata": {},
     "output_type": "execute_result"
    }
   ],
   "source": [
    "sql = 'SELECT type_2, SUM(num) FROM type_tbl GROUP BY type_2'\n",
    "cur.execute(sql)"
   ]
  },
  {
   "cell_type": "code",
   "execution_count": 39,
   "id": "5fa92840",
   "metadata": {},
   "outputs": [],
   "source": [
    "row = cur.fetchall()"
   ]
  },
  {
   "cell_type": "code",
   "execution_count": 41,
   "id": "e4216d01",
   "metadata": {},
   "outputs": [
    {
     "data": {
      "text/html": [
       "<div>\n",
       "<style scoped>\n",
       "    .dataframe tbody tr th:only-of-type {\n",
       "        vertical-align: middle;\n",
       "    }\n",
       "\n",
       "    .dataframe tbody tr th {\n",
       "        vertical-align: top;\n",
       "    }\n",
       "\n",
       "    .dataframe thead th {\n",
       "        text-align: right;\n",
       "    }\n",
       "</style>\n",
       "<table border=\"1\" class=\"dataframe\">\n",
       "  <thead>\n",
       "    <tr style=\"text-align: right;\">\n",
       "      <th></th>\n",
       "      <th>장애인구수</th>\n",
       "    </tr>\n",
       "    <tr>\n",
       "      <th>type</th>\n",
       "      <th></th>\n",
       "    </tr>\n",
       "  </thead>\n",
       "  <tbody>\n",
       "    <tr>\n",
       "      <th>지체</th>\n",
       "      <td>11921</td>\n",
       "    </tr>\n",
       "    <tr>\n",
       "      <th>뇌병변</th>\n",
       "      <td>2857</td>\n",
       "    </tr>\n",
       "    <tr>\n",
       "      <th>시각</th>\n",
       "      <td>2827</td>\n",
       "    </tr>\n",
       "  </tbody>\n",
       "</table>\n",
       "</div>"
      ],
      "text/plain": [
       "      장애인구수\n",
       "type       \n",
       "지체    11921\n",
       "뇌병변    2857\n",
       "시각     2827"
      ]
     },
     "execution_count": 41,
     "metadata": {},
     "output_type": "execute_result"
    }
   ],
   "source": [
    "Dataname = ['type', '장애인구수']\n",
    "result_2 = pd.DataFrame(row, columns=Dataname)\n",
    "result_2 = result_2.set_index('type')\n",
    "result_2.head()"
   ]
  },
  {
   "cell_type": "code",
   "execution_count": 43,
   "id": "049fa5c2",
   "metadata": {},
   "outputs": [
    {
     "data": {
      "image/png": "[encoded data removed]",
      "text/plain": [
       "<Figure size 720x360 with 1 Axes>"
      ]
     },
     "metadata": {
      "needs_background": "light"
     },
     "output_type": "display_data"
    }
   ],
   "source": [
    "plt.figure(figsize=(10,5))\n",
    "plt.bar(result_2.index, result_2['장애인구수'], color='orange')\n",
    "plt.title('강서구 유형별 장애인구수')\n",
    "plt.show()"
   ]
  },
  {
   "cell_type": "markdown",
   "id": "e5b5453c",
   "metadata": {},
   "source": [
    "### 쿼리문 3"
   ]
  },
  {
   "cell_type": "code",
   "execution_count": 22,
   "id": "aebfa622",
   "metadata": {},
   "outputs": [
    {
     "data": {
      "text/plain": [
       "20"
      ]
     },
     "execution_count": 22,
     "metadata": {},
     "output_type": "execute_result"
    }
   ],
   "source": [
    "sql = 'SELECT a.dong_3 AS \\'동별\\', num, total, round(num/total,3) AS \\'ratio\\' FROM (SELECT dong_3, SUM(num) AS num FROM type_tbl GROUP BY dong_3) a inner join total_tbl b ON a.dong_3 = b.dong_3 ORDER BY ratio DESC'\n",
    "cur.execute(sql)"
   ]
  },
  {
   "cell_type": "code",
   "execution_count": 23,
   "id": "6fa699e1",
   "metadata": {},
   "outputs": [],
   "source": [
    "row = cur.fetchall()"
   ]
  },
  {
   "cell_type": "code",
   "execution_count": 24,
   "id": "456647ba",
   "metadata": {},
   "outputs": [],
   "source": [
    "Dataname = ['행정동', '장애인구수', '인구수', '장애인비율']\n",
    "result_3 = pd.DataFrame(row, columns = Dataname)"
   ]
  },
  {
   "cell_type": "code",
   "execution_count": 25,
   "id": "3534566c",
   "metadata": {},
   "outputs": [
    {
     "data": {
      "text/html": [
       "<div>\n",
       "<style scoped>\n",
       "    .dataframe tbody tr th:only-of-type {\n",
       "        vertical-align: middle;\n",
       "    }\n",
       "\n",
       "    .dataframe tbody tr th {\n",
       "        vertical-align: top;\n",
       "    }\n",
       "\n",
       "    .dataframe thead th {\n",
       "        text-align: right;\n",
       "    }\n",
       "</style>\n",
       "<table border=\"1\" class=\"dataframe\">\n",
       "  <thead>\n",
       "    <tr style=\"text-align: right;\">\n",
       "      <th></th>\n",
       "      <th>장애인구수</th>\n",
       "      <th>인구수</th>\n",
       "      <th>장애인비율</th>\n",
       "    </tr>\n",
       "    <tr>\n",
       "      <th>행정동</th>\n",
       "      <th></th>\n",
       "      <th></th>\n",
       "      <th></th>\n",
       "    </tr>\n",
       "  </thead>\n",
       "  <tbody>\n",
       "    <tr>\n",
       "      <th>가양2동</th>\n",
       "      <td>1368</td>\n",
       "      <td>14109</td>\n",
       "      <td>0.097</td>\n",
       "    </tr>\n",
       "    <tr>\n",
       "      <th>등촌3동</th>\n",
       "      <td>2203</td>\n",
       "      <td>30714</td>\n",
       "      <td>0.072</td>\n",
       "    </tr>\n",
       "    <tr>\n",
       "      <th>가양3동</th>\n",
       "      <td>955</td>\n",
       "      <td>15138</td>\n",
       "      <td>0.063</td>\n",
       "    </tr>\n",
       "    <tr>\n",
       "      <th>방화3동</th>\n",
       "      <td>1248</td>\n",
       "      <td>22924</td>\n",
       "      <td>0.054</td>\n",
       "    </tr>\n",
       "    <tr>\n",
       "      <th>방화2동</th>\n",
       "      <td>976</td>\n",
       "      <td>23656</td>\n",
       "      <td>0.041</td>\n",
       "    </tr>\n",
       "  </tbody>\n",
       "</table>\n",
       "</div>"
      ],
      "text/plain": [
       "     장애인구수    인구수  장애인비율\n",
       "행정동                     \n",
       "가양2동  1368  14109  0.097\n",
       "등촌3동  2203  30714  0.072\n",
       "가양3동   955  15138  0.063\n",
       "방화3동  1248  22924  0.054\n",
       "방화2동   976  23656  0.041"
      ]
     },
     "execution_count": 25,
     "metadata": {},
     "output_type": "execute_result"
    }
   ],
   "source": [
    "result_3.set_index('행정동', inplace=True)\n",
    "result_3.head()"
   ]
  },
  {
   "cell_type": "code",
   "execution_count": 32,
   "id": "d71d348d",
   "metadata": {},
   "outputs": [
    {
     "data": {
      "image/png": "[encoded data removed]",
      "text/plain": [
       "<Figure size 720x360 with 1 Axes>"
      ]
     },
     "metadata": {
      "needs_background": "light"
     },
     "output_type": "display_data"
    }
   ],
   "source": [
    "plt.figure(figsize=(10,5))\n",
    "bar = plt.bar(result_3.index, result_3['장애인비율'], color='green')\n",
    "\n",
    "for i, v in enumerate(result.index):\n",
    "    plt.text(v, result_3['장애인비율'][i],result_3['장애인비율'][i],\n",
    "             fontsize=9,\n",
    "             horizontalalignment='center',\n",
    "             verticalalignment='bottom')\n",
    "plt.title('강서구 행정동별 전체 인구수 대비 장애인인구비율')\n",
    "plt.xticks(rotation=45)\n",
    "plt.show()"
   ]
  },
  {
   "cell_type": "code",
   "execution_count": 27,
   "id": "34fa531e",
   "metadata": {},
   "outputs": [
    {
     "data": {
      "text/html": [
       "<div>\n",
       "<style scoped>\n",
       "    .dataframe tbody tr th:only-of-type {\n",
       "        vertical-align: middle;\n",
       "    }\n",
       "\n",
       "    .dataframe tbody tr th {\n",
       "        vertical-align: top;\n",
       "    }\n",
       "\n",
       "    .dataframe thead th {\n",
       "        text-align: right;\n",
       "    }\n",
       "</style>\n",
       "<table border=\"1\" class=\"dataframe\">\n",
       "  <thead>\n",
       "    <tr style=\"text-align: right;\">\n",
       "      <th></th>\n",
       "      <th>장애인구수</th>\n",
       "      <th>인구수</th>\n",
       "      <th>장애인비율</th>\n",
       "      <th>장애인비율_정규화</th>\n",
       "    </tr>\n",
       "    <tr>\n",
       "      <th>행정동</th>\n",
       "      <th></th>\n",
       "      <th></th>\n",
       "      <th></th>\n",
       "      <th></th>\n",
       "    </tr>\n",
       "  </thead>\n",
       "  <tbody>\n",
       "    <tr>\n",
       "      <th>가양2동</th>\n",
       "      <td>1368</td>\n",
       "      <td>14109</td>\n",
       "      <td>0.097</td>\n",
       "      <td>1</td>\n",
       "    </tr>\n",
       "    <tr>\n",
       "      <th>등촌3동</th>\n",
       "      <td>2203</td>\n",
       "      <td>30714</td>\n",
       "      <td>0.072</td>\n",
       "      <td>0.6951219512195121951219512195</td>\n",
       "    </tr>\n",
       "    <tr>\n",
       "      <th>가양3동</th>\n",
       "      <td>955</td>\n",
       "      <td>15138</td>\n",
       "      <td>0.063</td>\n",
       "      <td>0.5853658536585365853658536585</td>\n",
       "    </tr>\n",
       "    <tr>\n",
       "      <th>방화3동</th>\n",
       "      <td>1248</td>\n",
       "      <td>22924</td>\n",
       "      <td>0.054</td>\n",
       "      <td>0.4756097560975609756097560976</td>\n",
       "    </tr>\n",
       "    <tr>\n",
       "      <th>방화2동</th>\n",
       "      <td>976</td>\n",
       "      <td>23656</td>\n",
       "      <td>0.041</td>\n",
       "      <td>0.3170731707317073170731707317</td>\n",
       "    </tr>\n",
       "    <tr>\n",
       "      <th>화곡4동</th>\n",
       "      <td>639</td>\n",
       "      <td>20820</td>\n",
       "      <td>0.031</td>\n",
       "      <td>0.1951219512195121951219512195</td>\n",
       "    </tr>\n",
       "    <tr>\n",
       "      <th>화곡8동</th>\n",
       "      <td>662</td>\n",
       "      <td>24789</td>\n",
       "      <td>0.027</td>\n",
       "      <td>0.1463414634146341463414634146</td>\n",
       "    </tr>\n",
       "    <tr>\n",
       "      <th>발산1동</th>\n",
       "      <td>991</td>\n",
       "      <td>36572</td>\n",
       "      <td>0.027</td>\n",
       "      <td>0.1463414634146341463414634146</td>\n",
       "    </tr>\n",
       "    <tr>\n",
       "      <th>화곡2동</th>\n",
       "      <td>470</td>\n",
       "      <td>18096</td>\n",
       "      <td>0.026</td>\n",
       "      <td>0.1341463414634146341463414634</td>\n",
       "    </tr>\n",
       "    <tr>\n",
       "      <th>공항동</th>\n",
       "      <td>816</td>\n",
       "      <td>31483</td>\n",
       "      <td>0.026</td>\n",
       "      <td>0.1341463414634146341463414634</td>\n",
       "    </tr>\n",
       "    <tr>\n",
       "      <th>방화1동</th>\n",
       "      <td>1126</td>\n",
       "      <td>43181</td>\n",
       "      <td>0.026</td>\n",
       "      <td>0.1341463414634146341463414634</td>\n",
       "    </tr>\n",
       "    <tr>\n",
       "      <th>화곡1동</th>\n",
       "      <td>1357</td>\n",
       "      <td>52770</td>\n",
       "      <td>0.026</td>\n",
       "      <td>0.1341463414634146341463414634</td>\n",
       "    </tr>\n",
       "    <tr>\n",
       "      <th>화곡본동</th>\n",
       "      <td>877</td>\n",
       "      <td>34612</td>\n",
       "      <td>0.025</td>\n",
       "      <td>0.1219512195121951219512195122</td>\n",
       "    </tr>\n",
       "    <tr>\n",
       "      <th>화곡3동</th>\n",
       "      <td>508</td>\n",
       "      <td>21661</td>\n",
       "      <td>0.023</td>\n",
       "      <td>0.09756097560975609756097560976</td>\n",
       "    </tr>\n",
       "    <tr>\n",
       "      <th>화곡6동</th>\n",
       "      <td>582</td>\n",
       "      <td>25096</td>\n",
       "      <td>0.023</td>\n",
       "      <td>0.09756097560975609756097560976</td>\n",
       "    </tr>\n",
       "    <tr>\n",
       "      <th>등촌2동</th>\n",
       "      <td>440</td>\n",
       "      <td>20423</td>\n",
       "      <td>0.022</td>\n",
       "      <td>0.08536585365853658536585365854</td>\n",
       "    </tr>\n",
       "    <tr>\n",
       "      <th>등촌1동</th>\n",
       "      <td>451</td>\n",
       "      <td>24436</td>\n",
       "      <td>0.018</td>\n",
       "      <td>0.03658536585365853658536585366</td>\n",
       "    </tr>\n",
       "    <tr>\n",
       "      <th>우장산동</th>\n",
       "      <td>767</td>\n",
       "      <td>43129</td>\n",
       "      <td>0.018</td>\n",
       "      <td>0.03658536585365853658536585366</td>\n",
       "    </tr>\n",
       "    <tr>\n",
       "      <th>염창동</th>\n",
       "      <td>645</td>\n",
       "      <td>41764</td>\n",
       "      <td>0.015</td>\n",
       "      <td>0</td>\n",
       "    </tr>\n",
       "    <tr>\n",
       "      <th>가양1동</th>\n",
       "      <td>524</td>\n",
       "      <td>34395</td>\n",
       "      <td>0.015</td>\n",
       "      <td>0</td>\n",
       "    </tr>\n",
       "  </tbody>\n",
       "</table>\n",
       "</div>"
      ],
      "text/plain": [
       "     장애인구수    인구수  장애인비율                        장애인비율_정규화\n",
       "행정동                                                      \n",
       "가양2동  1368  14109  0.097                                1\n",
       "등촌3동  2203  30714  0.072   0.6951219512195121951219512195\n",
       "가양3동   955  15138  0.063   0.5853658536585365853658536585\n",
       "방화3동  1248  22924  0.054   0.4756097560975609756097560976\n",
       "방화2동   976  23656  0.041   0.3170731707317073170731707317\n",
       "화곡4동   639  20820  0.031   0.1951219512195121951219512195\n",
       "화곡8동   662  24789  0.027   0.1463414634146341463414634146\n",
       "발산1동   991  36572  0.027   0.1463414634146341463414634146\n",
       "화곡2동   470  18096  0.026   0.1341463414634146341463414634\n",
       "공항동    816  31483  0.026   0.1341463414634146341463414634\n",
       "방화1동  1126  43181  0.026   0.1341463414634146341463414634\n",
       "화곡1동  1357  52770  0.026   0.1341463414634146341463414634\n",
       "화곡본동   877  34612  0.025   0.1219512195121951219512195122\n",
       "화곡3동   508  21661  0.023  0.09756097560975609756097560976\n",
       "화곡6동   582  25096  0.023  0.09756097560975609756097560976\n",
       "등촌2동   440  20423  0.022  0.08536585365853658536585365854\n",
       "등촌1동   451  24436  0.018  0.03658536585365853658536585366\n",
       "우장산동   767  43129  0.018  0.03658536585365853658536585366\n",
       "염창동    645  41764  0.015                                0\n",
       "가양1동   524  34395  0.015                                0"
      ]
     },
     "execution_count": 27,
     "metadata": {},
     "output_type": "execute_result"
    }
   ],
   "source": [
    "result_3['장애인비율_정규화'] = (result_3['장애인비율'] - result_3['장애인비율'].min()) / (result_3['장애인비율'].max() - result_3['장애인비율'].min() )\n",
    "result_3"
   ]
  },
  {
   "cell_type": "code",
   "execution_count": 17,
   "id": "0ca3628f",
   "metadata": {},
   "outputs": [],
   "source": [
    "result_3.to_csv('강서구_장애인인구수_정규화추가.csv', encoding=\"utf-8-sig\")"
   ]
  },
  {
   "cell_type": "code",
   "execution_count": 44,
   "id": "e49e4c77",
   "metadata": {},
   "outputs": [],
   "source": [
    "conn.commit()"
   ]
  },
  {
   "cell_type": "markdown",
   "id": "d22c2f68",
   "metadata": {},
   "source": [
    "---"
   ]
  }
 ],
 "metadata": {
  "kernelspec": {
   "display_name": "Python 3 (ipykernel)",
   "language": "python",
   "name": "python3"
  },
  "language_info": {
   "codemirror_mode": {
    "name": "ipython",
    "version": 3
   },
   "file_extension": ".py",
   "mimetype": "text/x-python",
   "name": "python",
   "nbconvert_exporter": "python",
   "pygments_lexer": "ipython3",
   "version": "3.9.12"
  }
 },
 "nbformat": 4,
 "nbformat_minor": 5
}
